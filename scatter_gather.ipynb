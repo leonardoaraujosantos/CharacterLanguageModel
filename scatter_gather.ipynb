{
 "cells": [
  {
   "cell_type": "markdown",
   "metadata": {},
   "source": [
    "# Gather and Scatter Operations\n",
    "Those operations are used to read values on a tensor based on some index, the advantage of these operations are because they are fast.\n",
    "\n",
    "#### References\n",
    "* [Pytorch Basic Operations](https://jhui.github.io/2018/02/09/PyTorch-Basic-operations/)\n",
    "* [Stack Overflow Gather](https://stackoverflow.com/questions/50999977/what-does-the-gather-function-do-in-pytorch-in-layman-terms)\n",
    "* [Scatter](https://pytorch.org/docs/stable/tensors.html?highlight=scatter#torch.Tensor.scatter)\n",
    "* [Gather](https://pytorch.org/docs/stable/torch.html#torch.gather)\n",
    "* [What does scatter do in layman terms](https://discuss.pytorch.org/t/what-does-the-scatter-function-do-in-layman-terms/28037/4)\n",
    "* [Using Scatter to Convert to One-Hot](https://discuss.pytorch.org/t/convert-int-into-one-hot-format/507/4)"
   ]
  },
  {
   "cell_type": "code",
   "execution_count": 1,
   "metadata": {},
   "outputs": [],
   "source": [
    "import torch\n",
    "import torch.nn as nn\n",
    "import torch.nn.functional as F\n",
    "\n",
    "batch_size = 3\n",
    "nb_classes = 5"
   ]
  },
  {
   "cell_type": "markdown",
   "metadata": {},
   "source": [
    "#### Gatter 1D"
   ]
  },
  {
   "cell_type": "code",
   "execution_count": 2,
   "metadata": {},
   "outputs": [
    {
     "name": "stdout",
     "output_type": "stream",
     "text": [
      "tensor([[2, 1, 3]])\n"
     ]
    }
   ],
   "source": [
    "a = torch.tensor([[1,2,3]])\n",
    "b = torch.tensor([[1,0,2]])\n",
    "r = torch.gather(input=a, dim=1, index=b)\n",
    "print(r)"
   ]
  },
  {
   "cell_type": "markdown",
   "metadata": {},
   "source": [
    "#### Gather 2D"
   ]
  },
  {
   "cell_type": "code",
   "execution_count": 3,
   "metadata": {},
   "outputs": [
    {
     "name": "stdout",
     "output_type": "stream",
     "text": [
      "tensor([[1, 2],\n",
      "        [3, 2]])\n"
     ]
    }
   ],
   "source": [
    "t = torch.tensor([[1,2],[3,4]])\n",
    "r = torch.gather(t, 0, torch.tensor([[0,0],[1,0]]))\n",
    "print(r)"
   ]
  },
  {
   "cell_type": "code",
   "execution_count": 4,
   "metadata": {},
   "outputs": [
    {
     "name": "stdout",
     "output_type": "stream",
     "text": [
      "tensor([[1, 1],\n",
      "        [4, 3]])\n"
     ]
    }
   ],
   "source": [
    "t = torch.tensor([[1,2],[3,4]])\n",
    "r = torch.gather(t, 1, torch.tensor([[0,0],[1,0]]))\n",
    "print(r)"
   ]
  },
  {
   "cell_type": "markdown",
   "metadata": {},
   "source": [
    "### Scatter\n",
    "This operation is used to scatter values along a tensor following the same rules as gather, but now pushing values instead of selecting them."
   ]
  },
  {
   "cell_type": "code",
   "execution_count": 5,
   "metadata": {},
   "outputs": [
    {
     "name": "stdout",
     "output_type": "stream",
     "text": [
      "input: tensor([[10, 11, 12]])\n",
      "index: tensor([[0, 2, 1]])\n"
     ]
    },
    {
     "data": {
      "text/plain": [
       "tensor([[10, 12, 11]])"
      ]
     },
     "execution_count": 5,
     "metadata": {},
     "output_type": "execute_result"
    }
   ],
   "source": [
    "x = torch.arange(3).view(1,3)+10\n",
    "print('input:',x)\n",
    "y = torch.zeros_like(x)\n",
    "# index need to have same shape as x\n",
    "b = torch.tensor([[0,2,1]])\n",
    "print('index:',b)\n",
    "# Scatter on y, the values on x along dimension 1\n",
    "y.scatter(dim=1, index=b, src=x)"
   ]
  },
  {
   "cell_type": "markdown",
   "metadata": {},
   "source": [
    "#### Custom CrossEntropy"
   ]
  },
  {
   "cell_type": "code",
   "execution_count": 6,
   "metadata": {},
   "outputs": [],
   "source": [
    "# Define custom cross_entropy\n",
    "# x: shape [batch x C]\n",
    "# y: shape [batch]\n",
    "def my_cross_entropy(x, target):\n",
    "    # Calculate the log-probability of x along first dimension    \n",
    "    log_prob = -1.0 * F.log_softmax(x, 1)\n",
    "    print('log_prob:')\n",
    "    print(log_prob)\n",
    "    # Unsqueze will make y shape become [batch x 1]\n",
    "    # Gather elements from log_probability along second dimension (dim=1)\n",
    "    # here log_prob.shape [ batch x C]\n",
    "    # target.shape [ batch x 1], so the shapes wont match but pytorch will broadcast\n",
    "    loss_no_gather = log_prob[range(log_prob.shape[0]), target]\n",
    "    print('No gather loss(SLOW):')\n",
    "    print(loss_no_gather.unsqueeze(1))\n",
    "    loss = log_prob.gather(1, target.unsqueeze(1))  \n",
    "    print('Gather loss')\n",
    "    print(loss)\n",
    "    loss = loss.mean()    \n",
    "    return loss\n",
    "\n",
    "# Reference CrossEntropy\n",
    "criterion = nn.CrossEntropyLoss()"
   ]
  },
  {
   "cell_type": "code",
   "execution_count": 7,
   "metadata": {},
   "outputs": [
    {
     "name": "stdout",
     "output_type": "stream",
     "text": [
      "log_prob:\n",
      "tensor([[3.6357, 1.6960, 1.2000, 2.6488, 0.8716],\n",
      "        [3.4037, 3.1011, 1.7399, 0.3241, 3.7723],\n",
      "        [2.2717, 0.9338, 1.9005, 1.6440, 1.8258]])\n",
      "No gather loss(SLOW):\n",
      "tensor([[1.2000],\n",
      "        [0.3241],\n",
      "        [1.8258]])\n",
      "Gather loss\n",
      "tensor([[1.2000],\n",
      "        [0.3241],\n",
      "        [1.8258]])\n",
      "loss_reference: tensor(1.1166)\n",
      "my_cross_entropy: tensor(1.1166)\n"
     ]
    }
   ],
   "source": [
    "x = torch.randn(batch_size, nb_classes, requires_grad=True)\n",
    "y = torch.randint(0, nb_classes, (batch_size,))\n",
    "\n",
    "with torch.no_grad():\n",
    "    loss_reference = criterion(x, y)\n",
    "    loss = my_cross_entropy(x, y)\n",
    "\n",
    "print('loss_reference:',loss_reference)\n",
    "print('my_cross_entropy:',loss)"
   ]
  }
 ],
 "metadata": {
  "kernelspec": {
   "display_name": "Python 3",
   "language": "python",
   "name": "python3"
  },
  "language_info": {
   "codemirror_mode": {
    "name": "ipython",
    "version": 3
   },
   "file_extension": ".py",
   "mimetype": "text/x-python",
   "name": "python",
   "nbconvert_exporter": "python",
   "pygments_lexer": "ipython3",
   "version": "3.7.3"
  }
 },
 "nbformat": 4,
 "nbformat_minor": 4
}
