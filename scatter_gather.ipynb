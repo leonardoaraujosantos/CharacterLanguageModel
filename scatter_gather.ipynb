{
 "cells": [
  {
   "cell_type": "markdown",
   "metadata": {},
   "source": [
    "# Gather and Scatter Operations\n",
    "Those operations are used to read values on a tensor based on some index, the advantage of these operations are because they are fast.\n",
    "![Input Output](docs/imgs/gather_illustrated.png \"Title\")\n",
    "\n",
    "#### References\n",
    "* [Pytorch Basic Operations](https://jhui.github.io/2018/02/09/PyTorch-Basic-operations/)\n",
    "* [Stack Overflow Gather](https://stackoverflow.com/questions/50999977/what-does-the-gather-function-do-in-pytorch-in-layman-terms)\n",
    "* [Scatter](https://pytorch.org/docs/stable/tensors.html?highlight=scatter#torch.Tensor.scatter)\n",
    "* [Gather](https://pytorch.org/docs/stable/torch.html#torch.gather)\n",
    "* [What does scatter do in layman terms](https://discuss.pytorch.org/t/what-does-the-scatter-function-do-in-layman-terms/28037/4)\n",
    "* [Using Scatter to Convert to One-Hot](https://discuss.pytorch.org/t/convert-int-into-one-hot-format/507/4)"
   ]
  },
  {
   "cell_type": "code",
   "execution_count": 1,
   "metadata": {},
   "outputs": [],
   "source": [
    "import torch"
   ]
  },
  {
   "cell_type": "code",
   "execution_count": 2,
   "metadata": {},
   "outputs": [
    {
     "name": "stdout",
     "output_type": "stream",
     "text": [
      "tensor([[1, 2, 3],\n",
      "        [4, 5, 6],\n",
      "        [7, 8, 9]])\n",
      "Shape: torch.Size([3, 3])\n"
     ]
    }
   ],
   "source": [
    "v = torch.arange(9) + 1\n",
    "y = v\n",
    "v = v.view(3, 3)\n",
    "print(v)\n",
    "print('Shape:', v.shape)"
   ]
  },
  {
   "cell_type": "code",
   "execution_count": 3,
   "metadata": {},
   "outputs": [
    {
     "name": "stdout",
     "output_type": "stream",
     "text": [
      "tensor([[1, 2],\n",
      "        [5, 6],\n",
      "        [9, 7]])\n",
      "torch.Size([3, 2])\n"
     ]
    }
   ],
   "source": [
    "r = torch.gather(v, 1, torch.LongTensor([[0,1],[1,2],[2,0]]))\n",
    "print(r)\n",
    "print(r.shape)"
   ]
  },
  {
   "cell_type": "code",
   "execution_count": 4,
   "metadata": {},
   "outputs": [
    {
     "name": "stdout",
     "output_type": "stream",
     "text": [
      "tensor([[1, 2],\n",
      "        [5, 4],\n",
      "        [9, 8]])\n",
      "torch.Size([3, 2])\n"
     ]
    }
   ],
   "source": [
    "r = torch.gather(v, 1, torch.LongTensor([[0,1],[1,0],[2,1]]))\n",
    "print(r)\n",
    "print(r.shape)"
   ]
  },
  {
   "cell_type": "markdown",
   "metadata": {},
   "source": [
    "### Scatter\n",
    "The scatter says “send the elements of x to the following indices in y, according to ROW-WISE (dim 0)”. In layman’s terms, this is saying, for each element in the original\n",
    "[ 0.3992, 0.2908, 0.9044, 0.4850, 0.6004], [ 0.5735, 0.9006, 0.6797, 0.4152, 0.1732] tensor, we specify a row index (0,1 or 2) to send it to in the tensor we are scattering into.\n",
    "\n"
   ]
  },
  {
   "cell_type": "code",
   "execution_count": 15,
   "metadata": {},
   "outputs": [
    {
     "name": "stdout",
     "output_type": "stream",
     "text": [
      "tensor([[0, 1, 2, 3, 4],\n",
      "        [5, 6, 7, 8, 9]])\n"
     ]
    },
    {
     "data": {
      "text/plain": [
       "tensor([[0, 6, 7, 3, 4],\n",
       "        [0, 1, 0, 8, 0],\n",
       "        [5, 0, 2, 0, 9]])"
      ]
     },
     "execution_count": 15,
     "metadata": {},
     "output_type": "execute_result"
    }
   ],
   "source": [
    "x = torch.arange(10).view(2,5)\n",
    "print(x)\n",
    "y = torch.zeros(3, 5).long()\n",
    "# index need to have same shape as x\n",
    "index = torch.tensor([[0, 1, 2, 0, 0], [2, 0, 0, 1, 2]])\n",
    "# dim, index, source\n",
    "y.scatter_(0, index, x)"
   ]
  },
  {
   "cell_type": "markdown",
   "metadata": {},
   "source": [
    "#### Using Scatter to Convert to One-Hot"
   ]
  },
  {
   "cell_type": "code",
   "execution_count": 6,
   "metadata": {},
   "outputs": [
    {
     "name": "stdout",
     "output_type": "stream",
     "text": [
      "x\n",
      "tensor([[2],\n",
      "        [3],\n",
      "        [0]])\n",
      "y_one_hot\n"
     ]
    },
    {
     "data": {
      "text/plain": [
       "tensor([[0., 0., 1., 0.],\n",
       "        [0., 0., 0., 1.],\n",
       "        [1., 0., 0., 0.]])"
      ]
     },
     "execution_count": 6,
     "metadata": {},
     "output_type": "execute_result"
    }
   ],
   "source": [
    "batch_size = 3\n",
    "nb_digits = 4\n",
    "# Dummy input that HAS to be 2D for the scatter (you can use view(-1,1) if needed)\n",
    "x = torch.LongTensor(batch_size,1).random_() % nb_digits\n",
    "print('x')\n",
    "print(x)\n",
    "# One hot encoding buffer that you create out of the loop and just keep reusing\n",
    "y_onehot = torch.FloatTensor(batch_size, nb_digits)\n",
    "\n",
    "# In your for loop\n",
    "y_onehot.zero_()\n",
    "print('y_one_hot')\n",
    "# The scatter says “send the elements of x to the following indices in torch.zeros, according to ROW-WISE (dim 0)”\n",
    "y_onehot.scatter_(1, x, 1)"
   ]
  }
 ],
 "metadata": {
  "kernelspec": {
   "display_name": "Python 3",
   "language": "python",
   "name": "python3"
  },
  "language_info": {
   "codemirror_mode": {
    "name": "ipython",
    "version": 3
   },
   "file_extension": ".py",
   "mimetype": "text/x-python",
   "name": "python",
   "nbconvert_exporter": "python",
   "pygments_lexer": "ipython3",
   "version": "3.7.3"
  }
 },
 "nbformat": 4,
 "nbformat_minor": 4
}
