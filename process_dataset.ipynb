{
 "cells": [
  {
   "cell_type": "markdown",
   "metadata": {},
   "source": [
    "# Process Dataset\n",
    "\n",
    "#### References\n",
    "* https://pytorch.org/tutorials/intermediate/char_rnn_generation_tutorial.html\n",
    "* https://ascii.cl"
   ]
  },
  {
   "cell_type": "code",
   "execution_count": 1,
   "metadata": {},
   "outputs": [
    {
     "name": "stdout",
     "output_type": "stream",
     "text": [
      "All letters: abcdefghijklmnopqrstuvwxyzABCDEFGHIJKLMNOPQRSTUVWXYZ .,;'-0123456789\n",
      "All set_classes: [' ', \"'\", ',', '-', '.', '0', '1', '2', '3', '4', '5', '6', '7', '8', '9', ';', 'A', 'B', 'C', 'D', 'E', 'F', 'G', 'H', 'I', 'J', 'K', 'L', 'M', 'N', 'O', 'P', 'Q', 'R', 'S', 'T', 'U', 'V', 'W', 'X', 'Y', 'Z', 'a', 'b', 'c', 'd', 'e', 'f', 'g', 'h', 'i', 'j', 'k', 'l', 'm', 'n', 'o', 'p', 'q', 'r', 's', 't', 'u', 'v', 'w', 'x', 'y', 'z']\n",
      "Number of all letters: 69\n",
      "CrazY12sg O'Neal\n",
      "Lines on dataset: 124453\n",
      "Biggest line size: 84 characters\n"
     ]
    }
   ],
   "source": [
    "import utils_char\n",
    "import pickle\n",
    "import numpy as np\n",
    "from sklearn.model_selection import train_test_split\n",
    "\n",
    "pickle_filename = \"data/shakespeare_corpus_data.pkl\"\n",
    "pickle_filename_train = \"data/shakespeare_corpus_data_train.pkl\"\n",
    "pickle_filename_test = \"data/shakespeare_corpus_data_test.pkl\"\n",
    "\n",
    "print('All letters:', utils_char.all_letters)\n",
    "print('All set_classes:', utils_char.set_classes)\n",
    "print('Number of all letters:', utils_char.n_letters)\n",
    "print(utils_char.unicodeToAscii('CrazY12^@s%g O\\'Néàl'))\n",
    "data_lst = utils_char.readLines('./data/char_data.txt')\n",
    "print('Lines on dataset:', len(data_lst))\n",
    "biggest_line_size = np.max([len(line) for line in data_lst])\n",
    "print('Biggest line size:', biggest_line_size, 'characters')"
   ]
  },
  {
   "cell_type": "markdown",
   "metadata": {},
   "source": [
    "#### Split phrases into words"
   ]
  },
  {
   "cell_type": "code",
   "execution_count": null,
   "metadata": {},
   "outputs": [],
   "source": [
    "data_lst_words = [phrases.split() for phrases in data_lst]\n",
    "big_lst_words = []\n",
    "for list_words in data_lst_words:\n",
    "    for words in list_words:\n",
    "        big_lst_words.append(words)\n",
    "biggest_word_size = np.max([len(words) for words in big_lst_words])\n",
    "\n",
    "# Just substitute variables\n",
    "data_lst = big_lst_words\n",
    "biggest_line_size = biggest_word_size"
   ]
  },
  {
   "cell_type": "markdown",
   "metadata": {},
   "source": [
    "##### Create Codemap"
   ]
  },
  {
   "cell_type": "code",
   "execution_count": 2,
   "metadata": {},
   "outputs": [
    {
     "name": "stdout",
     "output_type": "stream",
     "text": [
      "EOS: Not included adding....\n"
     ]
    }
   ],
   "source": [
    "# Create codemap\n",
    "codemap = {}\n",
    "for idx, val in enumerate(utils_char.set_classes):\n",
    "    codemap[idx] = val\n",
    "\n",
    "if (utils_char.EOS_token in codemap.values()) is False:\n",
    "    print('EOS: Not included adding....')\n",
    "    codemap[len(codemap)] = utils_char.EOS_token\n",
    "else:\n",
    "    print('EOS already on codemap')"
   ]
  },
  {
   "cell_type": "code",
   "execution_count": 3,
   "metadata": {},
   "outputs": [],
   "source": [
    "# Save it to pickle file\n",
    "with open('codemap_LM.pickle', 'wb') as handle:\n",
    "    pickle.dump(codemap, handle)"
   ]
  },
  {
   "cell_type": "markdown",
   "metadata": {},
   "source": [
    "##### Training sample for Character Language Model\n",
    "Just to illustrate the input and expected output for the character langauge model. All those characters will be actually a class_id given by the codemap"
   ]
  },
  {
   "cell_type": "code",
   "execution_count": 4,
   "metadata": {},
   "outputs": [
    {
     "name": "stdout",
     "output_type": "stream",
     "text": [
      "Timesteps: 5\n",
      "Input: <SOS> Hello\n",
      "Target: ello <EOS>\n",
      "X: [23, 46, 53, 53, 56]\n",
      "Y: [46, 53, 53, 56, 68]\n",
      "X_dec: ['H', 'e', 'l', 'l', 'o']\n",
      "Y_dec: ['e', 'l', 'l', 'o', '<EOS>']\n"
     ]
    }
   ],
   "source": [
    "#sample = data_lst[0]\n",
    "sample = 'Hello'\n",
    "print('Timesteps:', len(sample))\n",
    "print('Input: <SOS>', sample[0:])\n",
    "print('Target:', sample[1:], '<EOS>')\n",
    "\n",
    "# The the sample would be something like this....\n",
    "X = [utils_char.class_id_from_char(char, codemap) for char in sample]\n",
    "# Input shifted by one character + EOS_token\n",
    "Y = [utils_char.class_id_from_char(char, codemap) for char in sample[1:]] + [utils_char.class_id_from_char(utils_char.EOS_token, codemap)]\n",
    "print('X:', X)\n",
    "print('Y:', Y)\n",
    "X_dec = [utils_char.char_from_class_id(class_id, codemap) for class_id in X]\n",
    "Y_dec = [utils_char.char_from_class_id(class_id, codemap) for class_id in Y]\n",
    "print('X_dec:', X_dec)\n",
    "print('Y_dec:', Y_dec)"
   ]
  },
  {
   "cell_type": "markdown",
   "metadata": {},
   "source": [
    "##### Create Dataset"
   ]
  },
  {
   "cell_type": "code",
   "execution_count": 5,
   "metadata": {},
   "outputs": [],
   "source": [
    "char_language_model_data = {}\n",
    "cnt_data = 0\n",
    "for idx, sample in enumerate(data_lst):\n",
    "    #print('Idx:', idx, 'text:', sample)\n",
    "    X_class_id = [utils_char.class_id_from_char(char, codemap) for char in sample]\n",
    "    #X_chars = [char for char in sample]\n",
    "    #Y_chars = [char for char in sample[1:]] + [utils_char.class_id_from_char(utils_char.EOS_token, codemap)]    \n",
    "    Y_class_id = [utils_char.class_id_from_char(char, codemap) for char in sample[1:]] + [utils_char.class_id_from_char(utils_char.EOS_token, codemap)]  \n",
    "    len_x = len(X_class_id)\n",
    "    len_y = len(Y_class_id)\n",
    "    # Avoid empty sequences on the dataset\n",
    "    if len_x == 0:\n",
    "        continue\n",
    "    char_language_model_data[cnt_data] = X_class_id, Y_class_id, len_x, len_y\n",
    "    cnt_data += 1"
   ]
  },
  {
   "cell_type": "markdown",
   "metadata": {},
   "source": [
    "#### Pad Dataset\n",
    "This step is necessary in order to use mini-batches"
   ]
  },
  {
   "cell_type": "code",
   "execution_count": 6,
   "metadata": {},
   "outputs": [],
   "source": [
    "char_language_model_data_pad = utils_char.pad_data(char_language_model_data, biggest_line_size)"
   ]
  },
  {
   "cell_type": "code",
   "execution_count": 7,
   "metadata": {},
   "outputs": [],
   "source": [
    "# Save processed dataset to pickle\n",
    "with open(pickle_filename, 'wb') as handle:\n",
    "    pickle.dump(char_language_model_data_pad, handle)"
   ]
  },
  {
   "cell_type": "markdown",
   "metadata": {},
   "source": [
    "#### Divide between train/test"
   ]
  },
  {
   "cell_type": "code",
   "execution_count": 8,
   "metadata": {},
   "outputs": [
    {
     "name": "stdout",
     "output_type": "stream",
     "text": [
      "Total dataset size: 115000\n",
      "Train dataset size: 103500\n",
      "Test dataset size: 11500\n"
     ]
    }
   ],
   "source": [
    "dataset = utils_char.load_pickle(pickle_filename)\n",
    "print('Total dataset size:', len(dataset))\n",
    "# Convert dictionary to list\n",
    "dataset_lst = list(dataset.values())\n",
    "dataset_lst_train, dataset_lst_test = train_test_split(dataset_lst, test_size=1/10, random_state=42)\n",
    "print('Train dataset size:', len(dataset_lst_train))\n",
    "print('Test dataset size:', len(dataset_lst_test))\n",
    "\n",
    "# Save processed dataset to pickle\n",
    "with open(pickle_filename_train, 'wb') as handle:\n",
    "    pickle.dump(dataset_lst_train, handle)\n",
    "\n",
    "# Save processed dataset to pickle\n",
    "with open(pickle_filename_test, 'wb') as handle:\n",
    "    pickle.dump(dataset_lst_test, handle)"
   ]
  }
 ],
 "metadata": {
  "kernelspec": {
   "display_name": "Python 3",
   "language": "python",
   "name": "python3"
  },
  "language_info": {
   "codemirror_mode": {
    "name": "ipython",
    "version": 3
   },
   "file_extension": ".py",
   "mimetype": "text/x-python",
   "name": "python",
   "nbconvert_exporter": "python",
   "pygments_lexer": "ipython3",
   "version": "3.7.3"
  }
 },
 "nbformat": 4,
 "nbformat_minor": 4
}
